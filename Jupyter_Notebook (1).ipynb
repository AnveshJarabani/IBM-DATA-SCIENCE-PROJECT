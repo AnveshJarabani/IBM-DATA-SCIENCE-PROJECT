{
 "cells": [
  {
   "cell_type": "markdown",
   "metadata": {},
   "source": [
    "<center>\n",
    "    <img src=\"https://cf-courses-data.s3.us.cloud-object-storage.appdomain.cloud/IBMDeveloperSkillsNetwork-DS0105EN-SkillsNetwork/labs/Module2/images/SN_web_lightmode.png\" width=\"300\" alt=\"cognitiveclass.ai logo\">\n",
    "</center>\n"
   ]
  },
  {
   "cell_type": "markdown",
   "metadata": {},
   "source": [
    "#### Add your code below following the instructions given in the course\n"
   ]
  },
  {
   "cell_type": "markdown",
   "metadata": {},
   "source": [
    "# Data Science Tools and Ecosystem"
   ]
  },
  {
   "cell_type": "markdown",
   "metadata": {},
   "source": [
    "# Data Science Tools and Ecosystem"
   ]
  },
  {
   "cell_type": "markdown",
   "metadata": {},
   "source": [
    "## In this notebook, Data Science Tools and Ecosystem are summarized."
   ]
  },
  {
   "cell_type": "markdown",
   "metadata": {},
   "source": [
    "## In this notebook, Data Science Tools and Ecosystem are summarized."
   ]
  },
  {
   "cell_type": "markdown",
   "metadata": {},
   "source": [
    "### Some of the popular languages that Data Scientists use are:\n",
    "1. PYTHON\n",
    "2. R\n",
    "3. SQL"
   ]
  },
  {
   "cell_type": "markdown",
   "metadata": {},
   "source": [
    "### Some of the commonly used libraries used by Data Scientists include:\n",
    "1. SCIKIT-LEARN\n",
    "2. TENSORFLOW\n",
    "3. PANDAS\n",
    "4. NUMPY\n",
    "5. DASH"
   ]
  },
  {
   "cell_type": "markdown",
   "metadata": {},
   "source": [
    "### Some of the commonly used libraries used by Data Scientists include:\n",
    "1. SCIKIT-LEARN\n",
    "2. TENSORFLOW\n",
    "3. PANDAS\n",
    "4. NUMPY\n",
    "5. DASH"
   ]
  },
  {
   "cell_type": "markdown",
   "metadata": {},
   "source": [
    "| NUMPY | PLOLTY | DASH |\n",
    "| ---: | ---: | ---: |\n",
    "| ARRAYS | GRAPHS | UI |\n",
    "| BASIC | TESTING | INSIGHTS |"
   ]
  },
  {
   "cell_type": "markdown",
   "metadata": {},
   "source": [
    "| NUMPY | PLOLTY | DASH |\n",
    "| ---: | ---: | ---: |\n",
    "| ARRAYS | GRAPHS | UI |\n",
    "| BASIC | TESTING | INSIGHTS |"
   ]
  },
  {
   "cell_type": "markdown",
   "metadata": {},
   "source": [
    "$$a^2 + b^2 = c^2$$\n",
    "\n",
    "$$x_{1,2} = {-b\\pm\\sqrt{b^2 - 4ac} \\over 2a}.$$"
   ]
  },
  {
   "cell_type": "markdown",
   "metadata": {},
   "source": [
    "$$a^2 + b^2 = c^2$$\n",
    "\n",
    "$$x_{1,2} = {-b\\pm\\sqrt{b^2 - 4ac} \\over 2a}.$$"
   ]
  },
  {
   "cell_type": "code",
   "execution_count": 18,
   "metadata": {},
   "outputs": [
    {
     "name": "stdin",
     "output_type": "stream",
     "text": [
      "enter number A: 3\n",
      "enter number B: 4\n",
      "enter number C: 5\n"
     ]
    },
    {
     "name": "stdout",
     "output_type": "stream",
     "text": [
      "A*B+C: 17\n"
     ]
    }
   ],
   "source": [
    "# This a simple arithmetic expression to mutiply then add integers\n",
    "A = input(\"enter number A:\")\n",
    "B = input(\"enter number B:\")\n",
    "C = input(\"enter number C:\")\n",
    "print(\"A*B+C: \"+str(int(A)*int(B)+int(C)))"
   ]
  },
  {
   "cell_type": "code",
   "execution_count": 19,
   "metadata": {},
   "outputs": [
    {
     "name": "stdin",
     "output_type": "stream",
     "text": [
      "enter minutes: 200\n"
     ]
    },
    {
     "name": "stdout",
     "output_type": "stream",
     "text": [
      "Hours: 3.3333333333333335\n"
     ]
    }
   ],
   "source": [
    "# This will convert 200 minutes to hours by diving by 60\n",
    "A = input(\"enter minutes:\")\n",
    "print(\"Hours: \" + str(int(A)/60))"
   ]
  },
  {
   "cell_type": "markdown",
   "metadata": {},
   "source": [
    "## OBJECTIVES:\n",
    "- DEMONSTRATE MARKDOWN CELLS \n",
    "- DEMONSTRATE TABLES\n",
    "- DEMONSTRATE FORMULA MARKDOWNS AND CALCULATIONS\n"
   ]
  },
  {
   "cell_type": "markdown",
   "metadata": {},
   "source": [
    "## OBJECTIVES:\n",
    "- DEMONSTRATE MARKDOWN CELLS \n",
    "- DEMONSTRATE TABLES\n",
    "- DEMONSTRATE FORMULA MARKDOWNS AND CALCULATIONS\n"
   ]
  },
  {
   "cell_type": "markdown",
   "metadata": {},
   "source": [
    "## *AUTHORS NAME: AJARABANI*"
   ]
  },
  {
   "cell_type": "markdown",
   "metadata": {},
   "source": [
    "## *AUTHORS NAME: AJARABANI*"
   ]
  },
  {
   "cell_type": "code",
   "execution_count": null,
   "metadata": {},
   "outputs": [],
   "source": []
  }
 ],
 "metadata": {
  "kernelspec": {
   "display_name": "Python",
   "language": "python",
   "name": "conda-env-python-py"
  },
  "language_info": {
   "codemirror_mode": {
    "name": "ipython",
    "version": 3
   },
   "file_extension": ".py",
   "mimetype": "text/x-python",
   "name": "python",
   "nbconvert_exporter": "python",
   "pygments_lexer": "ipython3",
   "version": "3.7.12"
  }
 },
 "nbformat": 4,
 "nbformat_minor": 4
}
